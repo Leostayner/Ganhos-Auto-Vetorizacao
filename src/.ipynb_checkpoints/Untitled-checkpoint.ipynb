{
 "cells": [
  {
   "cell_type": "markdown",
   "metadata": {},
   "source": [
    "## Introdução"
   ]
  },
  {
   "cell_type": "markdown",
   "metadata": {},
   "source": [
    "(----------------------)"
   ]
  },
  {
   "cell_type": "markdown",
   "metadata": {},
   "source": [
    "#### import"
   ]
  },
  {
   "cell_type": "code",
   "execution_count": 1,
   "metadata": {},
   "outputs": [],
   "source": [
    "import pandas as pd\n",
    "import matplotlib.pyplot as plt\n",
    "from IPython.display import display\n",
    "import json\n"
   ]
  },
  {
   "cell_type": "markdown",
   "metadata": {},
   "source": [
    "#### Load Json Files"
   ]
  },
  {
   "cell_type": "code",
   "execution_count": 2,
   "metadata": {},
   "outputs": [],
   "source": [
    "#Load files\n",
    "with open('Tempo_norm.json') as data_file: \n",
    "    data_N = json.load(data_file)\n",
    "    \n",
    "with open('Tempo_vec.json') as data_file: \n",
    "    data_V = json.load(data_file)\n",
    "    \n",
    "with open('Tempo_mavx.json') as data_file: \n",
    "    data_VX = json.load(data_file)\n",
    "    \n",
    "with open('Tempo_mavx2.json') as data_file: \n",
    "    data_VX2 = json.load(data_file)"
   ]
  },
  {
   "cell_type": "markdown",
   "metadata": {},
   "source": [
    "#### Create Dataframes"
   ]
  },
  {
   "cell_type": "code",
   "execution_count": 3,
   "metadata": {},
   "outputs": [],
   "source": [
    "df_N   = pd.DataFrame.from_dict(data_N, orient='columns')\n",
    "df_V   = pd.DataFrame.from_dict(data_V, orient='columns')\n",
    "df_VX  = pd.DataFrame.from_dict(data_VX, orient='columns')\n",
    "df_VX2 = pd.DataFrame.from_dict(data_VX2, orient='columns')\n"
   ]
  },
  {
   "cell_type": "markdown",
   "metadata": {},
   "source": [
    "#### Normal"
   ]
  },
  {
   "cell_type": "code",
   "execution_count": 4,
   "metadata": {},
   "outputs": [
    {
     "data": {
      "text/html": [
       "<div>\n",
       "<style scoped>\n",
       "    .dataframe tbody tr th:only-of-type {\n",
       "        vertical-align: middle;\n",
       "    }\n",
       "\n",
       "    .dataframe tbody tr th {\n",
       "        vertical-align: top;\n",
       "    }\n",
       "\n",
       "    .dataframe thead th {\n",
       "        text-align: right;\n",
       "    }\n",
       "</style>\n",
       "<table border=\"1\" class=\"dataframe\">\n",
       "  <thead>\n",
       "    <tr style=\"text-align: right;\">\n",
       "      <th></th>\n",
       "      <th>exp_element_norm</th>\n",
       "      <th>gauss_norm</th>\n",
       "      <th>inner_prod_norm</th>\n",
       "      <th>log_element_norm</th>\n",
       "      <th>sqrt_element_norm</th>\n",
       "      <th>sum_positive_norm</th>\n",
       "    </tr>\n",
       "  </thead>\n",
       "  <tbody>\n",
       "    <tr>\n",
       "      <th>10</th>\n",
       "      <td>0.000021</td>\n",
       "      <td>4.640000e-07</td>\n",
       "      <td>1.194000e-06</td>\n",
       "      <td>7.240000e-07</td>\n",
       "      <td>3.490000e-07</td>\n",
       "      <td>3.360000e-07</td>\n",
       "    </tr>\n",
       "    <tr>\n",
       "      <th>100</th>\n",
       "      <td>0.000007</td>\n",
       "      <td>1.251000e-06</td>\n",
       "      <td>6.870000e-07</td>\n",
       "      <td>1.143000e-06</td>\n",
       "      <td>7.510000e-07</td>\n",
       "      <td>5.230000e-07</td>\n",
       "    </tr>\n",
       "    <tr>\n",
       "      <th>1000</th>\n",
       "      <td>0.000034</td>\n",
       "      <td>2.060800e-05</td>\n",
       "      <td>3.602000e-06</td>\n",
       "      <td>2.788300e-05</td>\n",
       "      <td>6.081000e-06</td>\n",
       "      <td>4.041000e-06</td>\n",
       "    </tr>\n",
       "    <tr>\n",
       "      <th>10000</th>\n",
       "      <td>0.000321</td>\n",
       "      <td>2.118670e-04</td>\n",
       "      <td>3.571600e-05</td>\n",
       "      <td>2.688620e-04</td>\n",
       "      <td>5.610000e-05</td>\n",
       "      <td>3.741200e-05</td>\n",
       "    </tr>\n",
       "    <tr>\n",
       "      <th>100000</th>\n",
       "      <td>0.002021</td>\n",
       "      <td>2.673974e-03</td>\n",
       "      <td>3.674740e-04</td>\n",
       "      <td>2.805390e-03</td>\n",
       "      <td>5.600500e-04</td>\n",
       "      <td>3.601230e-04</td>\n",
       "    </tr>\n",
       "  </tbody>\n",
       "</table>\n",
       "</div>"
      ],
      "text/plain": [
       "        exp_element_norm    gauss_norm  inner_prod_norm  log_element_norm  \\\n",
       "10              0.000021  4.640000e-07     1.194000e-06      7.240000e-07   \n",
       "100             0.000007  1.251000e-06     6.870000e-07      1.143000e-06   \n",
       "1000            0.000034  2.060800e-05     3.602000e-06      2.788300e-05   \n",
       "10000           0.000321  2.118670e-04     3.571600e-05      2.688620e-04   \n",
       "100000          0.002021  2.673974e-03     3.674740e-04      2.805390e-03   \n",
       "\n",
       "        sqrt_element_norm  sum_positive_norm  \n",
       "10           3.490000e-07       3.360000e-07  \n",
       "100          7.510000e-07       5.230000e-07  \n",
       "1000         6.081000e-06       4.041000e-06  \n",
       "10000        5.610000e-05       3.741200e-05  \n",
       "100000       5.600500e-04       3.601230e-04  "
      ]
     },
     "execution_count": 4,
     "metadata": {},
     "output_type": "execute_result"
    }
   ],
   "source": [
    "df_N"
   ]
  },
  {
   "cell_type": "markdown",
   "metadata": {},
   "source": [
    "#### Free Vectorize"
   ]
  },
  {
   "cell_type": "code",
   "execution_count": 5,
   "metadata": {},
   "outputs": [
    {
     "data": {
      "text/html": [
       "<div>\n",
       "<style scoped>\n",
       "    .dataframe tbody tr th:only-of-type {\n",
       "        vertical-align: middle;\n",
       "    }\n",
       "\n",
       "    .dataframe tbody tr th {\n",
       "        vertical-align: top;\n",
       "    }\n",
       "\n",
       "    .dataframe thead th {\n",
       "        text-align: right;\n",
       "    }\n",
       "</style>\n",
       "<table border=\"1\" class=\"dataframe\">\n",
       "  <thead>\n",
       "    <tr style=\"text-align: right;\">\n",
       "      <th></th>\n",
       "      <th>exp_element_vec</th>\n",
       "      <th>gauss_vec</th>\n",
       "      <th>inner_prod_vec</th>\n",
       "      <th>log_element_vec</th>\n",
       "      <th>sqrt_element_vec</th>\n",
       "      <th>sum_positive_vec</th>\n",
       "    </tr>\n",
       "  </thead>\n",
       "  <tbody>\n",
       "    <tr>\n",
       "      <th>10</th>\n",
       "      <td>0.000022</td>\n",
       "      <td>4.190000e-07</td>\n",
       "      <td>1.496000e-06</td>\n",
       "      <td>7.120000e-07</td>\n",
       "      <td>4.300000e-07</td>\n",
       "      <td>3.030000e-07</td>\n",
       "    </tr>\n",
       "    <tr>\n",
       "      <th>100</th>\n",
       "      <td>0.000003</td>\n",
       "      <td>1.185000e-06</td>\n",
       "      <td>7.390000e-07</td>\n",
       "      <td>7.530000e-07</td>\n",
       "      <td>6.990000e-07</td>\n",
       "      <td>5.460000e-07</td>\n",
       "    </tr>\n",
       "    <tr>\n",
       "      <th>1000</th>\n",
       "      <td>0.000020</td>\n",
       "      <td>1.985000e-05</td>\n",
       "      <td>3.923000e-06</td>\n",
       "      <td>2.879100e-05</td>\n",
       "      <td>6.013000e-06</td>\n",
       "      <td>3.917000e-06</td>\n",
       "    </tr>\n",
       "    <tr>\n",
       "      <th>10000</th>\n",
       "      <td>0.000193</td>\n",
       "      <td>2.022560e-04</td>\n",
       "      <td>3.836500e-05</td>\n",
       "      <td>2.698550e-04</td>\n",
       "      <td>5.560200e-05</td>\n",
       "      <td>3.707900e-05</td>\n",
       "    </tr>\n",
       "    <tr>\n",
       "      <th>100000</th>\n",
       "      <td>0.001869</td>\n",
       "      <td>2.028666e-03</td>\n",
       "      <td>4.013900e-04</td>\n",
       "      <td>2.794128e-03</td>\n",
       "      <td>4.118790e-04</td>\n",
       "      <td>3.685160e-04</td>\n",
       "    </tr>\n",
       "  </tbody>\n",
       "</table>\n",
       "</div>"
      ],
      "text/plain": [
       "        exp_element_vec     gauss_vec  inner_prod_vec  log_element_vec  \\\n",
       "10             0.000022  4.190000e-07    1.496000e-06     7.120000e-07   \n",
       "100            0.000003  1.185000e-06    7.390000e-07     7.530000e-07   \n",
       "1000           0.000020  1.985000e-05    3.923000e-06     2.879100e-05   \n",
       "10000          0.000193  2.022560e-04    3.836500e-05     2.698550e-04   \n",
       "100000         0.001869  2.028666e-03    4.013900e-04     2.794128e-03   \n",
       "\n",
       "        sqrt_element_vec  sum_positive_vec  \n",
       "10          4.300000e-07      3.030000e-07  \n",
       "100         6.990000e-07      5.460000e-07  \n",
       "1000        6.013000e-06      3.917000e-06  \n",
       "10000       5.560200e-05      3.707900e-05  \n",
       "100000      4.118790e-04      3.685160e-04  "
      ]
     },
     "execution_count": 5,
     "metadata": {},
     "output_type": "execute_result"
    }
   ],
   "source": [
    "df_V"
   ]
  },
  {
   "cell_type": "markdown",
   "metadata": {},
   "source": [
    "#### Mavx"
   ]
  },
  {
   "cell_type": "code",
   "execution_count": 6,
   "metadata": {},
   "outputs": [
    {
     "data": {
      "text/html": [
       "<div>\n",
       "<style scoped>\n",
       "    .dataframe tbody tr th:only-of-type {\n",
       "        vertical-align: middle;\n",
       "    }\n",
       "\n",
       "    .dataframe tbody tr th {\n",
       "        vertical-align: top;\n",
       "    }\n",
       "\n",
       "    .dataframe thead th {\n",
       "        text-align: right;\n",
       "    }\n",
       "</style>\n",
       "<table border=\"1\" class=\"dataframe\">\n",
       "  <thead>\n",
       "    <tr style=\"text-align: right;\">\n",
       "      <th></th>\n",
       "      <th>exp_element_mavx</th>\n",
       "      <th>gauss_mavx</th>\n",
       "      <th>inner_prod_mavx</th>\n",
       "      <th>log_element_mavx</th>\n",
       "      <th>sqrt_element_mavx</th>\n",
       "      <th>sum_positive_mavx</th>\n",
       "    </tr>\n",
       "  </thead>\n",
       "  <tbody>\n",
       "    <tr>\n",
       "      <th>10</th>\n",
       "      <td>0.000024</td>\n",
       "      <td>4.700000e-07</td>\n",
       "      <td>1.245000e-06</td>\n",
       "      <td>7.920000e-07</td>\n",
       "      <td>4.190000e-07</td>\n",
       "      <td>3.970000e-07</td>\n",
       "    </tr>\n",
       "    <tr>\n",
       "      <th>100</th>\n",
       "      <td>0.000008</td>\n",
       "      <td>1.209000e-06</td>\n",
       "      <td>9.690000e-07</td>\n",
       "      <td>7.590000e-07</td>\n",
       "      <td>7.570000e-07</td>\n",
       "      <td>4.830000e-07</td>\n",
       "    </tr>\n",
       "    <tr>\n",
       "      <th>1000</th>\n",
       "      <td>0.000038</td>\n",
       "      <td>2.046800e-05</td>\n",
       "      <td>4.993000e-06</td>\n",
       "      <td>2.786200e-05</td>\n",
       "      <td>5.816000e-06</td>\n",
       "      <td>3.727000e-06</td>\n",
       "    </tr>\n",
       "    <tr>\n",
       "      <th>10000</th>\n",
       "      <td>0.000343</td>\n",
       "      <td>2.085300e-04</td>\n",
       "      <td>4.314200e-05</td>\n",
       "      <td>2.688360e-04</td>\n",
       "      <td>5.472100e-05</td>\n",
       "      <td>3.633700e-05</td>\n",
       "    </tr>\n",
       "    <tr>\n",
       "      <th>100000</th>\n",
       "      <td>0.001871</td>\n",
       "      <td>2.095634e-03</td>\n",
       "      <td>4.010600e-04</td>\n",
       "      <td>2.814943e-03</td>\n",
       "      <td>5.629760e-04</td>\n",
       "      <td>3.646330e-04</td>\n",
       "    </tr>\n",
       "  </tbody>\n",
       "</table>\n",
       "</div>"
      ],
      "text/plain": [
       "        exp_element_mavx    gauss_mavx  inner_prod_mavx  log_element_mavx  \\\n",
       "10              0.000024  4.700000e-07     1.245000e-06      7.920000e-07   \n",
       "100             0.000008  1.209000e-06     9.690000e-07      7.590000e-07   \n",
       "1000            0.000038  2.046800e-05     4.993000e-06      2.786200e-05   \n",
       "10000           0.000343  2.085300e-04     4.314200e-05      2.688360e-04   \n",
       "100000          0.001871  2.095634e-03     4.010600e-04      2.814943e-03   \n",
       "\n",
       "        sqrt_element_mavx  sum_positive_mavx  \n",
       "10           4.190000e-07       3.970000e-07  \n",
       "100          7.570000e-07       4.830000e-07  \n",
       "1000         5.816000e-06       3.727000e-06  \n",
       "10000        5.472100e-05       3.633700e-05  \n",
       "100000       5.629760e-04       3.646330e-04  "
      ]
     },
     "execution_count": 6,
     "metadata": {},
     "output_type": "execute_result"
    }
   ],
   "source": [
    "df_VX"
   ]
  },
  {
   "cell_type": "markdown",
   "metadata": {},
   "source": [
    "#### Mavx2"
   ]
  },
  {
   "cell_type": "code",
   "execution_count": 7,
   "metadata": {},
   "outputs": [
    {
     "data": {
      "text/html": [
       "<div>\n",
       "<style scoped>\n",
       "    .dataframe tbody tr th:only-of-type {\n",
       "        vertical-align: middle;\n",
       "    }\n",
       "\n",
       "    .dataframe tbody tr th {\n",
       "        vertical-align: top;\n",
       "    }\n",
       "\n",
       "    .dataframe thead th {\n",
       "        text-align: right;\n",
       "    }\n",
       "</style>\n",
       "<table border=\"1\" class=\"dataframe\">\n",
       "  <thead>\n",
       "    <tr style=\"text-align: right;\">\n",
       "      <th></th>\n",
       "      <th>exp_element_mavx2</th>\n",
       "      <th>gauss_mavx2</th>\n",
       "      <th>inner_prod_mavx2</th>\n",
       "      <th>log_element_mavx2</th>\n",
       "      <th>sqrt_element_mavx2</th>\n",
       "      <th>sum_positive_mavx2</th>\n",
       "    </tr>\n",
       "  </thead>\n",
       "  <tbody>\n",
       "    <tr>\n",
       "      <th>10</th>\n",
       "      <td>0.000020</td>\n",
       "      <td>4.660000e-07</td>\n",
       "      <td>1.213000e-06</td>\n",
       "      <td>6.600000e-07</td>\n",
       "      <td>3.430000e-07</td>\n",
       "      <td>3.300000e-07</td>\n",
       "    </tr>\n",
       "    <tr>\n",
       "      <th>100</th>\n",
       "      <td>0.000006</td>\n",
       "      <td>1.184000e-06</td>\n",
       "      <td>7.060000e-07</td>\n",
       "      <td>7.280000e-07</td>\n",
       "      <td>6.910000e-07</td>\n",
       "      <td>5.020000e-07</td>\n",
       "    </tr>\n",
       "    <tr>\n",
       "      <th>1000</th>\n",
       "      <td>0.000029</td>\n",
       "      <td>1.980500e-05</td>\n",
       "      <td>3.670000e-06</td>\n",
       "      <td>2.785100e-05</td>\n",
       "      <td>5.967000e-06</td>\n",
       "      <td>3.709000e-06</td>\n",
       "    </tr>\n",
       "    <tr>\n",
       "      <th>10000</th>\n",
       "      <td>0.000182</td>\n",
       "      <td>2.042280e-04</td>\n",
       "      <td>3.738700e-05</td>\n",
       "      <td>2.594660e-04</td>\n",
       "      <td>5.668700e-05</td>\n",
       "      <td>3.767400e-05</td>\n",
       "    </tr>\n",
       "    <tr>\n",
       "      <th>100000</th>\n",
       "      <td>0.001820</td>\n",
       "      <td>2.027781e-03</td>\n",
       "      <td>3.771190e-04</td>\n",
       "      <td>2.723340e-03</td>\n",
       "      <td>5.838010e-04</td>\n",
       "      <td>3.795530e-04</td>\n",
       "    </tr>\n",
       "  </tbody>\n",
       "</table>\n",
       "</div>"
      ],
      "text/plain": [
       "        exp_element_mavx2   gauss_mavx2  inner_prod_mavx2  log_element_mavx2  \\\n",
       "10               0.000020  4.660000e-07      1.213000e-06       6.600000e-07   \n",
       "100              0.000006  1.184000e-06      7.060000e-07       7.280000e-07   \n",
       "1000             0.000029  1.980500e-05      3.670000e-06       2.785100e-05   \n",
       "10000            0.000182  2.042280e-04      3.738700e-05       2.594660e-04   \n",
       "100000           0.001820  2.027781e-03      3.771190e-04       2.723340e-03   \n",
       "\n",
       "        sqrt_element_mavx2  sum_positive_mavx2  \n",
       "10            3.430000e-07        3.300000e-07  \n",
       "100           6.910000e-07        5.020000e-07  \n",
       "1000          5.967000e-06        3.709000e-06  \n",
       "10000         5.668700e-05        3.767400e-05  \n",
       "100000        5.838010e-04        3.795530e-04  "
      ]
     },
     "execution_count": 7,
     "metadata": {},
     "output_type": "execute_result"
    }
   ],
   "source": [
    "df_VX2"
   ]
  },
  {
   "cell_type": "markdown",
   "metadata": {},
   "source": [
    "#### New Dataframes Specifc Function "
   ]
  },
  {
   "cell_type": "code",
   "execution_count": 8,
   "metadata": {},
   "outputs": [],
   "source": [
    "list_df = []\n",
    "\n",
    "for l1, l2, l3, l4 in zip(df_N.columns, df_V.columns, df_VX.columns, df_VX2.columns):\n",
    "    list_df.append((l1[:-2], pd.concat([df_N[l1], df_V[l2], df_VX[l3], df_VX2[l4]], axis = 1)))"
   ]
  },
  {
   "cell_type": "markdown",
   "metadata": {},
   "source": [
    "#### Plot Data Exp_Element"
   ]
  },
  {
   "cell_type": "code",
   "execution_count": 9,
   "metadata": {},
   "outputs": [
    {
     "data": {
      "text/html": [
       "<div>\n",
       "<style scoped>\n",
       "    .dataframe tbody tr th:only-of-type {\n",
       "        vertical-align: middle;\n",
       "    }\n",
       "\n",
       "    .dataframe tbody tr th {\n",
       "        vertical-align: top;\n",
       "    }\n",
       "\n",
       "    .dataframe thead th {\n",
       "        text-align: right;\n",
       "    }\n",
       "</style>\n",
       "<table border=\"1\" class=\"dataframe\">\n",
       "  <thead>\n",
       "    <tr style=\"text-align: right;\">\n",
       "      <th></th>\n",
       "      <th>exp_element_norm</th>\n",
       "      <th>exp_element_vec</th>\n",
       "      <th>exp_element_mavx</th>\n",
       "      <th>exp_element_mavx2</th>\n",
       "    </tr>\n",
       "  </thead>\n",
       "  <tbody>\n",
       "    <tr>\n",
       "      <th>10</th>\n",
       "      <td>0.000021</td>\n",
       "      <td>0.000022</td>\n",
       "      <td>0.000024</td>\n",
       "      <td>0.000020</td>\n",
       "    </tr>\n",
       "    <tr>\n",
       "      <th>100</th>\n",
       "      <td>0.000007</td>\n",
       "      <td>0.000003</td>\n",
       "      <td>0.000008</td>\n",
       "      <td>0.000006</td>\n",
       "    </tr>\n",
       "    <tr>\n",
       "      <th>1000</th>\n",
       "      <td>0.000034</td>\n",
       "      <td>0.000020</td>\n",
       "      <td>0.000038</td>\n",
       "      <td>0.000029</td>\n",
       "    </tr>\n",
       "    <tr>\n",
       "      <th>10000</th>\n",
       "      <td>0.000321</td>\n",
       "      <td>0.000193</td>\n",
       "      <td>0.000343</td>\n",
       "      <td>0.000182</td>\n",
       "    </tr>\n",
       "    <tr>\n",
       "      <th>100000</th>\n",
       "      <td>0.002021</td>\n",
       "      <td>0.001869</td>\n",
       "      <td>0.001871</td>\n",
       "      <td>0.001820</td>\n",
       "    </tr>\n",
       "  </tbody>\n",
       "</table>\n",
       "</div>"
      ],
      "text/plain": [
       "        exp_element_norm  exp_element_vec  exp_element_mavx  exp_element_mavx2\n",
       "10              0.000021         0.000022          0.000024           0.000020\n",
       "100             0.000007         0.000003          0.000008           0.000006\n",
       "1000            0.000034         0.000020          0.000038           0.000029\n",
       "10000           0.000321         0.000193          0.000343           0.000182\n",
       "100000          0.002021         0.001869          0.001871           0.001820"
      ]
     },
     "metadata": {},
     "output_type": "display_data"
    },
    {
     "data": {
      "text/plain": [
       "<matplotlib.axes._subplots.AxesSubplot at 0x7f441a411ba8>"
      ]
     },
     "metadata": {},
     "output_type": "display_data"
    },
    {
     "data": {
      "image/png": "[encoded data removed]",
      "text/plain": [
       "<Figure size 1080x576 with 1 Axes>"
      ]
     },
     "metadata": {
      "needs_background": "light"
     },
     "output_type": "display_data"
    }
   ],
   "source": [
    "display(list_df[0][1])\n",
    "display(list_df[0][1].plot.bar(rot = 0, figsize=(15, 8)))\n",
    "plt.show()"
   ]
  },
  {
   "cell_type": "markdown",
   "metadata": {},
   "source": [
    "#### Plot Data Gauss"
   ]
  },
  {
   "cell_type": "code",
   "execution_count": 10,
   "metadata": {},
   "outputs": [
    {
     "data": {
      "text/html": [
       "<div>\n",
       "<style scoped>\n",
       "    .dataframe tbody tr th:only-of-type {\n",
       "        vertical-align: middle;\n",
       "    }\n",
       "\n",
       "    .dataframe tbody tr th {\n",
       "        vertical-align: top;\n",
       "    }\n",
       "\n",
       "    .dataframe thead th {\n",
       "        text-align: right;\n",
       "    }\n",
       "</style>\n",
       "<table border=\"1\" class=\"dataframe\">\n",
       "  <thead>\n",
       "    <tr style=\"text-align: right;\">\n",
       "      <th></th>\n",
       "      <th>gauss_norm</th>\n",
       "      <th>gauss_vec</th>\n",
       "      <th>gauss_mavx</th>\n",
       "      <th>gauss_mavx2</th>\n",
       "    </tr>\n",
       "  </thead>\n",
       "  <tbody>\n",
       "    <tr>\n",
       "      <th>10</th>\n",
       "      <td>4.640000e-07</td>\n",
       "      <td>4.190000e-07</td>\n",
       "      <td>4.700000e-07</td>\n",
       "      <td>4.660000e-07</td>\n",
       "    </tr>\n",
       "    <tr>\n",
       "      <th>100</th>\n",
       "      <td>1.251000e-06</td>\n",
       "      <td>1.185000e-06</td>\n",
       "      <td>1.209000e-06</td>\n",
       "      <td>1.184000e-06</td>\n",
       "    </tr>\n",
       "    <tr>\n",
       "      <th>1000</th>\n",
       "      <td>2.060800e-05</td>\n",
       "      <td>1.985000e-05</td>\n",
       "      <td>2.046800e-05</td>\n",
       "      <td>1.980500e-05</td>\n",
       "    </tr>\n",
       "    <tr>\n",
       "      <th>10000</th>\n",
       "      <td>2.118670e-04</td>\n",
       "      <td>2.022560e-04</td>\n",
       "      <td>2.085300e-04</td>\n",
       "      <td>2.042280e-04</td>\n",
       "    </tr>\n",
       "    <tr>\n",
       "      <th>100000</th>\n",
       "      <td>2.673974e-03</td>\n",
       "      <td>2.028666e-03</td>\n",
       "      <td>2.095634e-03</td>\n",
       "      <td>2.027781e-03</td>\n",
       "    </tr>\n",
       "  </tbody>\n",
       "</table>\n",
       "</div>"
      ],
      "text/plain": [
       "          gauss_norm     gauss_vec    gauss_mavx   gauss_mavx2\n",
       "10      4.640000e-07  4.190000e-07  4.700000e-07  4.660000e-07\n",
       "100     1.251000e-06  1.185000e-06  1.209000e-06  1.184000e-06\n",
       "1000    2.060800e-05  1.985000e-05  2.046800e-05  1.980500e-05\n",
       "10000   2.118670e-04  2.022560e-04  2.085300e-04  2.042280e-04\n",
       "100000  2.673974e-03  2.028666e-03  2.095634e-03  2.027781e-03"
      ]
     },
     "metadata": {},
     "output_type": "display_data"
    },
    {
     "data": {
      "text/plain": [
       "<matplotlib.axes._subplots.AxesSubplot at 0x7f441832d710>"
      ]
     },
     "metadata": {},
     "output_type": "display_data"
    },
    {
     "data": {
      "image/png": "[encoded data removed]",
      "text/plain": [
       "<Figure size 1080x576 with 1 Axes>"
      ]
     },
     "metadata": {
      "needs_background": "light"
     },
     "output_type": "display_data"
    }
   ],
   "source": [
    "display(list_df[1][1])\n",
    "display(list_df[1][1].plot.bar(rot = 0, figsize=(15, 8)))\n",
    "plt.show()"
   ]
  },
  {
   "cell_type": "markdown",
   "metadata": {},
   "source": [
    "#### Plot Data Inner Prod"
   ]
  },
  {
   "cell_type": "code",
   "execution_count": 11,
   "metadata": {},
   "outputs": [
    {
     "data": {
      "text/html": [
       "<div>\n",
       "<style scoped>\n",
       "    .dataframe tbody tr th:only-of-type {\n",
       "        vertical-align: middle;\n",
       "    }\n",
       "\n",
       "    .dataframe tbody tr th {\n",
       "        vertical-align: top;\n",
       "    }\n",
       "\n",
       "    .dataframe thead th {\n",
       "        text-align: right;\n",
       "    }\n",
       "</style>\n",
       "<table border=\"1\" class=\"dataframe\">\n",
       "  <thead>\n",
       "    <tr style=\"text-align: right;\">\n",
       "      <th></th>\n",
       "      <th>inner_prod_norm</th>\n",
       "      <th>inner_prod_vec</th>\n",
       "      <th>inner_prod_mavx</th>\n",
       "      <th>inner_prod_mavx2</th>\n",
       "    </tr>\n",
       "  </thead>\n",
       "  <tbody>\n",
       "    <tr>\n",
       "      <th>10</th>\n",
       "      <td>1.194000e-06</td>\n",
       "      <td>1.496000e-06</td>\n",
       "      <td>1.245000e-06</td>\n",
       "      <td>1.213000e-06</td>\n",
       "    </tr>\n",
       "    <tr>\n",
       "      <th>100</th>\n",
       "      <td>6.870000e-07</td>\n",
       "      <td>7.390000e-07</td>\n",
       "      <td>9.690000e-07</td>\n",
       "      <td>7.060000e-07</td>\n",
       "    </tr>\n",
       "    <tr>\n",
       "      <th>1000</th>\n",
       "      <td>3.602000e-06</td>\n",
       "      <td>3.923000e-06</td>\n",
       "      <td>4.993000e-06</td>\n",
       "      <td>3.670000e-06</td>\n",
       "    </tr>\n",
       "    <tr>\n",
       "      <th>10000</th>\n",
       "      <td>3.571600e-05</td>\n",
       "      <td>3.836500e-05</td>\n",
       "      <td>4.314200e-05</td>\n",
       "      <td>3.738700e-05</td>\n",
       "    </tr>\n",
       "    <tr>\n",
       "      <th>100000</th>\n",
       "      <td>3.674740e-04</td>\n",
       "      <td>4.013900e-04</td>\n",
       "      <td>4.010600e-04</td>\n",
       "      <td>3.771190e-04</td>\n",
       "    </tr>\n",
       "  </tbody>\n",
       "</table>\n",
       "</div>"
      ],
      "text/plain": [
       "        inner_prod_norm  inner_prod_vec  inner_prod_mavx  inner_prod_mavx2\n",
       "10         1.194000e-06    1.496000e-06     1.245000e-06      1.213000e-06\n",
       "100        6.870000e-07    7.390000e-07     9.690000e-07      7.060000e-07\n",
       "1000       3.602000e-06    3.923000e-06     4.993000e-06      3.670000e-06\n",
       "10000      3.571600e-05    3.836500e-05     4.314200e-05      3.738700e-05\n",
       "100000     3.674740e-04    4.013900e-04     4.010600e-04      3.771190e-04"
      ]
     },
     "metadata": {},
     "output_type": "display_data"
    },
    {
     "data": {
      "text/plain": [
       "<matplotlib.axes._subplots.AxesSubplot at 0x7f44182d3f98>"
      ]
     },
     "metadata": {},
     "output_type": "display_data"
    },
    {
     "data": {
      "image/png": "[encoded data removed]",
      "text/plain": [
       "<Figure size 1080x576 with 1 Axes>"
      ]
     },
     "metadata": {
      "needs_background": "light"
     },
     "output_type": "display_data"
    }
   ],
   "source": [
    "display(list_df[2][1])\n",
    "display(list_df[2][1].plot.bar(rot = 0, figsize=(15, 8)))\n",
    "plt.show()"
   ]
  },
  {
   "cell_type": "markdown",
   "metadata": {},
   "source": [
    "#### Plot Data Log-Element"
   ]
  },
  {
   "cell_type": "code",
   "execution_count": 12,
   "metadata": {},
   "outputs": [
    {
     "data": {
      "text/html": [
       "<div>\n",
       "<style scoped>\n",
       "    .dataframe tbody tr th:only-of-type {\n",
       "        vertical-align: middle;\n",
       "    }\n",
       "\n",
       "    .dataframe tbody tr th {\n",
       "        vertical-align: top;\n",
       "    }\n",
       "\n",
       "    .dataframe thead th {\n",
       "        text-align: right;\n",
       "    }\n",
       "</style>\n",
       "<table border=\"1\" class=\"dataframe\">\n",
       "  <thead>\n",
       "    <tr style=\"text-align: right;\">\n",
       "      <th></th>\n",
       "      <th>log_element_norm</th>\n",
       "      <th>log_element_vec</th>\n",
       "      <th>log_element_mavx</th>\n",
       "      <th>log_element_mavx2</th>\n",
       "    </tr>\n",
       "  </thead>\n",
       "  <tbody>\n",
       "    <tr>\n",
       "      <th>10</th>\n",
       "      <td>7.240000e-07</td>\n",
       "      <td>7.120000e-07</td>\n",
       "      <td>7.920000e-07</td>\n",
       "      <td>6.600000e-07</td>\n",
       "    </tr>\n",
       "    <tr>\n",
       "      <th>100</th>\n",
       "      <td>1.143000e-06</td>\n",
       "      <td>7.530000e-07</td>\n",
       "      <td>7.590000e-07</td>\n",
       "      <td>7.280000e-07</td>\n",
       "    </tr>\n",
       "    <tr>\n",
       "      <th>1000</th>\n",
       "      <td>2.788300e-05</td>\n",
       "      <td>2.879100e-05</td>\n",
       "      <td>2.786200e-05</td>\n",
       "      <td>2.785100e-05</td>\n",
       "    </tr>\n",
       "    <tr>\n",
       "      <th>10000</th>\n",
       "      <td>2.688620e-04</td>\n",
       "      <td>2.698550e-04</td>\n",
       "      <td>2.688360e-04</td>\n",
       "      <td>2.594660e-04</td>\n",
       "    </tr>\n",
       "    <tr>\n",
       "      <th>100000</th>\n",
       "      <td>2.805390e-03</td>\n",
       "      <td>2.794128e-03</td>\n",
       "      <td>2.814943e-03</td>\n",
       "      <td>2.723340e-03</td>\n",
       "    </tr>\n",
       "  </tbody>\n",
       "</table>\n",
       "</div>"
      ],
      "text/plain": [
       "        log_element_norm  log_element_vec  log_element_mavx  log_element_mavx2\n",
       "10          7.240000e-07     7.120000e-07      7.920000e-07       6.600000e-07\n",
       "100         1.143000e-06     7.530000e-07      7.590000e-07       7.280000e-07\n",
       "1000        2.788300e-05     2.879100e-05      2.786200e-05       2.785100e-05\n",
       "10000       2.688620e-04     2.698550e-04      2.688360e-04       2.594660e-04\n",
       "100000      2.805390e-03     2.794128e-03      2.814943e-03       2.723340e-03"
      ]
     },
     "metadata": {},
     "output_type": "display_data"
    },
    {
     "data": {
      "text/plain": [
       "<matplotlib.axes._subplots.AxesSubplot at 0x7f441826d2b0>"
      ]
     },
     "metadata": {},
     "output_type": "display_data"
    },
    {
     "data": {
      "image/png": "[encoded data removed]",
      "text/plain": [
       "<Figure size 1080x576 with 1 Axes>"
      ]
     },
     "metadata": {
      "needs_background": "light"
     },
     "output_type": "display_data"
    }
   ],
   "source": [
    "display(list_df[3][1])\n",
    "display(list_df[3][1].plot.bar(rot = 0, figsize=(15, 8)))\n",
    "plt.show()"
   ]
  },
  {
   "cell_type": "markdown",
   "metadata": {},
   "source": [
    "#### Plot Data Sqrt-Element"
   ]
  },
  {
   "cell_type": "code",
   "execution_count": 13,
   "metadata": {},
   "outputs": [
    {
     "data": {
      "text/html": [
       "<div>\n",
       "<style scoped>\n",
       "    .dataframe tbody tr th:only-of-type {\n",
       "        vertical-align: middle;\n",
       "    }\n",
       "\n",
       "    .dataframe tbody tr th {\n",
       "        vertical-align: top;\n",
       "    }\n",
       "\n",
       "    .dataframe thead th {\n",
       "        text-align: right;\n",
       "    }\n",
       "</style>\n",
       "<table border=\"1\" class=\"dataframe\">\n",
       "  <thead>\n",
       "    <tr style=\"text-align: right;\">\n",
       "      <th></th>\n",
       "      <th>sqrt_element_norm</th>\n",
       "      <th>sqrt_element_vec</th>\n",
       "      <th>sqrt_element_mavx</th>\n",
       "      <th>sqrt_element_mavx2</th>\n",
       "    </tr>\n",
       "  </thead>\n",
       "  <tbody>\n",
       "    <tr>\n",
       "      <th>10</th>\n",
       "      <td>3.490000e-07</td>\n",
       "      <td>4.300000e-07</td>\n",
       "      <td>4.190000e-07</td>\n",
       "      <td>3.430000e-07</td>\n",
       "    </tr>\n",
       "    <tr>\n",
       "      <th>100</th>\n",
       "      <td>7.510000e-07</td>\n",
       "      <td>6.990000e-07</td>\n",
       "      <td>7.570000e-07</td>\n",
       "      <td>6.910000e-07</td>\n",
       "    </tr>\n",
       "    <tr>\n",
       "      <th>1000</th>\n",
       "      <td>6.081000e-06</td>\n",
       "      <td>6.013000e-06</td>\n",
       "      <td>5.816000e-06</td>\n",
       "      <td>5.967000e-06</td>\n",
       "    </tr>\n",
       "    <tr>\n",
       "      <th>10000</th>\n",
       "      <td>5.610000e-05</td>\n",
       "      <td>5.560200e-05</td>\n",
       "      <td>5.472100e-05</td>\n",
       "      <td>5.668700e-05</td>\n",
       "    </tr>\n",
       "    <tr>\n",
       "      <th>100000</th>\n",
       "      <td>5.600500e-04</td>\n",
       "      <td>4.118790e-04</td>\n",
       "      <td>5.629760e-04</td>\n",
       "      <td>5.838010e-04</td>\n",
       "    </tr>\n",
       "  </tbody>\n",
       "</table>\n",
       "</div>"
      ],
      "text/plain": [
       "        sqrt_element_norm  sqrt_element_vec  sqrt_element_mavx  \\\n",
       "10           3.490000e-07      4.300000e-07       4.190000e-07   \n",
       "100          7.510000e-07      6.990000e-07       7.570000e-07   \n",
       "1000         6.081000e-06      6.013000e-06       5.816000e-06   \n",
       "10000        5.610000e-05      5.560200e-05       5.472100e-05   \n",
       "100000       5.600500e-04      4.118790e-04       5.629760e-04   \n",
       "\n",
       "        sqrt_element_mavx2  \n",
       "10            3.430000e-07  \n",
       "100           6.910000e-07  \n",
       "1000          5.967000e-06  \n",
       "10000         5.668700e-05  \n",
       "100000        5.838010e-04  "
      ]
     },
     "metadata": {},
     "output_type": "display_data"
    },
    {
     "data": {
      "text/plain": [
       "<matplotlib.axes._subplots.AxesSubplot at 0x7f441819b550>"
      ]
     },
     "metadata": {},
     "output_type": "display_data"
    },
    {
     "data": {
      "image/png": "[encoded data removed]",
      "text/plain": [
       "<Figure size 1080x576 with 1 Axes>"
      ]
     },
     "metadata": {
      "needs_background": "light"
     },
     "output_type": "display_data"
    }
   ],
   "source": [
    "display(list_df[4][1])\n",
    "display(list_df[4][1].plot.bar(rot = 0, figsize=(15, 8)))\n",
    "plt.show()"
   ]
  },
  {
   "cell_type": "markdown",
   "metadata": {},
   "source": [
    "#### Plot Data Sum-Positivive"
   ]
  },
  {
   "cell_type": "code",
   "execution_count": 14,
   "metadata": {},
   "outputs": [
    {
     "data": {
      "text/html": [
       "<div>\n",
       "<style scoped>\n",
       "    .dataframe tbody tr th:only-of-type {\n",
       "        vertical-align: middle;\n",
       "    }\n",
       "\n",
       "    .dataframe tbody tr th {\n",
       "        vertical-align: top;\n",
       "    }\n",
       "\n",
       "    .dataframe thead th {\n",
       "        text-align: right;\n",
       "    }\n",
       "</style>\n",
       "<table border=\"1\" class=\"dataframe\">\n",
       "  <thead>\n",
       "    <tr style=\"text-align: right;\">\n",
       "      <th></th>\n",
       "      <th>sum_positive_norm</th>\n",
       "      <th>sum_positive_vec</th>\n",
       "      <th>sum_positive_mavx</th>\n",
       "      <th>sum_positive_mavx2</th>\n",
       "    </tr>\n",
       "  </thead>\n",
       "  <tbody>\n",
       "    <tr>\n",
       "      <th>10</th>\n",
       "      <td>3.360000e-07</td>\n",
       "      <td>3.030000e-07</td>\n",
       "      <td>3.970000e-07</td>\n",
       "      <td>3.300000e-07</td>\n",
       "    </tr>\n",
       "    <tr>\n",
       "      <th>100</th>\n",
       "      <td>5.230000e-07</td>\n",
       "      <td>5.460000e-07</td>\n",
       "      <td>4.830000e-07</td>\n",
       "      <td>5.020000e-07</td>\n",
       "    </tr>\n",
       "    <tr>\n",
       "      <th>1000</th>\n",
       "      <td>4.041000e-06</td>\n",
       "      <td>3.917000e-06</td>\n",
       "      <td>3.727000e-06</td>\n",
       "      <td>3.709000e-06</td>\n",
       "    </tr>\n",
       "    <tr>\n",
       "      <th>10000</th>\n",
       "      <td>3.741200e-05</td>\n",
       "      <td>3.707900e-05</td>\n",
       "      <td>3.633700e-05</td>\n",
       "      <td>3.767400e-05</td>\n",
       "    </tr>\n",
       "    <tr>\n",
       "      <th>100000</th>\n",
       "      <td>3.601230e-04</td>\n",
       "      <td>3.685160e-04</td>\n",
       "      <td>3.646330e-04</td>\n",
       "      <td>3.795530e-04</td>\n",
       "    </tr>\n",
       "  </tbody>\n",
       "</table>\n",
       "</div>"
      ],
      "text/plain": [
       "        sum_positive_norm  sum_positive_vec  sum_positive_mavx  \\\n",
       "10           3.360000e-07      3.030000e-07       3.970000e-07   \n",
       "100          5.230000e-07      5.460000e-07       4.830000e-07   \n",
       "1000         4.041000e-06      3.917000e-06       3.727000e-06   \n",
       "10000        3.741200e-05      3.707900e-05       3.633700e-05   \n",
       "100000       3.601230e-04      3.685160e-04       3.646330e-04   \n",
       "\n",
       "        sum_positive_mavx2  \n",
       "10            3.300000e-07  \n",
       "100           5.020000e-07  \n",
       "1000          3.709000e-06  \n",
       "10000         3.767400e-05  \n",
       "100000        3.795530e-04  "
      ]
     },
     "metadata": {},
     "output_type": "display_data"
    },
    {
     "data": {
      "text/plain": [
       "<matplotlib.axes._subplots.AxesSubplot at 0x7f44180bb898>"
      ]
     },
     "metadata": {},
     "output_type": "display_data"
    },
    {
     "data": {
      "image/png": "[encoded data removed]",
      "text/plain": [
       "<Figure size 1080x576 with 1 Axes>"
      ]
     },
     "metadata": {
      "needs_background": "light"
     },
     "output_type": "display_data"
    }
   ],
   "source": [
    "display(list_df[5][1])\n",
    "display(list_df[5][1].plot.bar(rot = 0, figsize=(15, 8)))\n",
    "plt.show()"
   ]
  },
  {
   "cell_type": "markdown",
   "metadata": {},
   "source": [
    "####\n",
    "Análises"
   ]
  },
  {
   "cell_type": "code",
   "execution_count": null,
   "metadata": {},
   "outputs": [],
   "source": []
  }
 ],
 "metadata": {
  "kernelspec": {
   "display_name": "Python 3",
   "language": "python",
   "name": "python3"
  },
  "language_info": {
   "codemirror_mode": {
    "name": "ipython",
    "version": 3
   },
   "file_extension": ".py",
   "mimetype": "text/x-python",
   "name": "python",
   "nbconvert_exporter": "python",
   "pygments_lexer": "ipython3",
   "version": "3.6.7"
  }
 },
 "nbformat": 4,
 "nbformat_minor": 2
}
